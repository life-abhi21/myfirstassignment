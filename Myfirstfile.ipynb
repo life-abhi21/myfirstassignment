{
  "nbformat": 4,
  "nbformat_minor": 0,
  "metadata": {
    "colab": {
      "provenance": []
    },
    "kernelspec": {
      "name": "python3",
      "display_name": "Python 3"
    },
    "language_info": {
      "name": "python"
    }
  },
  "cells": [
    {
      "cell_type": "markdown",
      "source": [
        "# #my first file"
      ],
      "metadata": {
        "id": "uXNwWlxFa4pU"
      }
    },
    {
      "cell_type": "code",
      "execution_count": null,
      "metadata": {
        "id": "c-gMCM1VYucB"
      },
      "outputs": [],
      "source": []
    }
  ]
}